{
 "cells": [
  {
   "cell_type": "markdown",
   "id": "7196054f",
   "metadata": {},
   "source": [
    "# Working with APIs"
   ]
  },
  {
   "cell_type": "markdown",
   "id": "0547b71e",
   "metadata": {},
   "source": [
    "API stands for Application programming interface<br>\n",
    "APIs are a way for applications to talk to eachother<br>\n",
    "In python we use the requests package to handle the connection<br>\n",
    "<small><strong>Note: It is requests with an s not request(this is a different package)</strong></small><br>\n",
    "Most API's communicate with data in the form of JSON<br>\n",
    "JSON stands for JavaScript Object Notation"
   ]
  },
  {
   "cell_type": "code",
   "execution_count": 16,
   "id": "4db9d154",
   "metadata": {},
   "outputs": [],
   "source": [
    "#import the packages we need:\n",
    "import requests"
   ]
  },
  {
   "cell_type": "markdown",
   "id": "e8c2ce51",
   "metadata": {},
   "source": [
    "We will be connecting to the Ergast F1 Racer API today:\n",
    "http://ergast.com/mrd/\n",
    "\n",
    "to view JSON data nicely in the Chrome browser install the extension JSONview"
   ]
  },
  {
   "cell_type": "code",
   "execution_count": 17,
   "id": "52c440c6",
   "metadata": {},
   "outputs": [
    {
     "data": {
      "text/plain": [
       "True"
      ]
     },
     "execution_count": 17,
     "metadata": {},
     "output_type": "execute_result"
    }
   ],
   "source": [
    "url = 'https://pokeapi.co/api/v2/pokemon/6'\n",
    "response = requests.get(url)\n",
    "response.status_code\n",
    "response.ok"
   ]
  },
  {
   "cell_type": "code",
   "execution_count": null,
   "id": "233ffa9a",
   "metadata": {},
   "outputs": [],
   "source": []
  },
  {
   "cell_type": "code",
   "execution_count": 4,
   "id": "f60c1b4a",
   "metadata": {},
   "outputs": [],
   "source": [
    "response = requests.get(url)"
   ]
  },
  {
   "cell_type": "code",
   "execution_count": 3,
   "id": "7b63a204",
   "metadata": {},
   "outputs": [
    {
     "data": {
      "text/plain": [
       "True"
      ]
     },
     "execution_count": 3,
     "metadata": {},
     "output_type": "execute_result"
    }
   ],
   "source": [
    "#response object\n",
    "response.status_code\n",
    "response.ok\n"
   ]
  },
  {
   "cell_type": "code",
   "execution_count": 112,
   "id": "c6d1fdaf",
   "metadata": {},
   "outputs": [],
   "source": [
    "#check and make sure we got a successful response from the API\n",
    "# response.json()"
   ]
  },
  {
   "cell_type": "code",
   "execution_count": 123,
   "id": "ed4d3256",
   "metadata": {},
   "outputs": [
    {
     "data": {
      "text/plain": [
       "dict"
      ]
     },
     "execution_count": 123,
     "metadata": {},
     "output_type": "execute_result"
    }
   ],
   "source": []
  },
  {
   "cell_type": "code",
   "execution_count": null,
   "id": "92e6cd2c",
   "metadata": {},
   "outputs": [],
   "source": []
  },
  {
   "cell_type": "code",
   "execution_count": 132,
   "id": "f074dfcf",
   "metadata": {},
   "outputs": [],
   "source": []
  },
  {
   "cell_type": "code",
   "execution_count": null,
   "id": "be46a950",
   "metadata": {},
   "outputs": [],
   "source": []
  },
  {
   "cell_type": "code",
   "execution_count": null,
   "id": "3740c752",
   "metadata": {},
   "outputs": [],
   "source": []
  },
  {
   "cell_type": "markdown",
   "id": "6d546014",
   "metadata": {},
   "source": [
    "# <strong>Homework</strong>\n",
    "check out this Pokemon API https://pokeapi.co/\n",
    "Use the requests package to connect to this API and get and store data for 5 different pokemon.\n",
    "Get the pokemons: name, atleast one ability's name, base_experience, and the URL for its sprite (an image that shows up on screen) for the 'front_shiny', attack base_state, hp base_stat, defense base_stat"
   ]
  },
  {
   "cell_type": "code",
   "execution_count": 28,
   "id": "5a9081e3",
   "metadata": {},
   "outputs": [
    {
     "name": "stdout",
     "output_type": "stream",
     "text": [
      "zapdos has been selected\n"
     ]
    },
    {
     "data": {
      "text/plain": [
       "[{'Name': 'zapdos',\n",
       "  'Ability': 'pressure',\n",
       "  'Base Experience': 290,\n",
       "  'Sprite Image URL': 'https://raw.githubusercontent.com/PokeAPI/sprites/master/sprites/pokemon/back/145.png',\n",
       "  'Attack Base Stat': 90,\n",
       "  'HP Base Stat': 90,\n",
       "  'Defence Base Stat': 85}]"
      ]
     },
     "execution_count": 28,
     "metadata": {},
     "output_type": "execute_result"
    }
   ],
   "source": [
    "def get_pokemon_stat_data(choice):\n",
    "    pokedex = []\n",
    "    url = f'https://pokeapi.co/api/v2/pokemon/{choice}'\n",
    "    response = requests.get(url)\n",
    "    if response.ok:\n",
    "        print(f\"{choice} has been selected\")\n",
    "        data = response.json()\n",
    "        pokemon =  {\n",
    "            'Name': data['forms'][0]['name'],\n",
    "            'Ability': data['abilities'][0]['ability']['name'],\n",
    "            'Base Experience': data['base_experience'],\n",
    "            'Sprite Image URL' : data['sprites']['back_default'], \n",
    "            'Attack Base Stat' : data['stats'][1]['base_stat'],\n",
    "            'HP Base Stat' : data['stats'][0]['base_stat'],\n",
    "            'Defence Base Stat' : data['stats'][2]['base_stat'],\n",
    "        }\n",
    "        pokedex.append(pokemon)\n",
    "        return(pokedex)\n",
    "\n",
    "    else:\n",
    "        return'Please choose another pokemon.'\n",
    "\n",
    "get_pokemon_stat_data('zapdos')\n",
    "\n",
    "\n",
    "#This was my original way before I turned it into a function. \n",
    "\n",
    "# url = 'https://pokeapi.co/api/v2/pokemon/zapdos'\n",
    "# response = requests.get(url)\n",
    "# response.status_code\n",
    "# response.ok\n",
    "\n",
    "# pokemon_stat_data_1 = response.json()['forms'][0]['name']\n",
    "# pokemon_stat_data_2 = response.json()['abilities'][0]['ability']['name']\n",
    "# pokemon_stat_data_3 = response.json()['base_experience']\n",
    "# pokemon_stat_data_4 = response.json()['sprites']['back_default']\n",
    "# pokemon_stat_data_5 = response.json()['stats'][1]['base_stat']\n",
    "# pokemon_stat_data_6 = response.json()['stats'][0]['base_stat']\n",
    "# pokemon_stat_data_7 = response.json()['stats'][2]['base_stat']\n",
    "\n",
    "# pokemon_stat_data = pokemon_stat_data_1.title()\n",
    "\n",
    "# print(f'Name: {pokemon_stat_data}')\n",
    "# print(f'Abilty: {pokemon_stat_data_2}')\n",
    "# print(f'Base Experience: {pokemon_stat_data_3}')\n",
    "# print(f'Sprite Image URL: {pokemon_stat_data_4}')\n",
    "# print(f'Attack Base Stat: {pokemon_stat_data_5}')\n",
    "# print(f'HP Base Stat: {pokemon_stat_data_6}')\n",
    "# print(f'Defence Base Stat: {pokemon_stat_data_7}')\n",
    "\n"
   ]
  },
  {
   "cell_type": "code",
   "execution_count": 181,
   "id": "f80ed9ae",
   "metadata": {},
   "outputs": [
    {
     "name": "stdout",
     "output_type": "stream",
     "text": [
      "Name: Mew\n",
      "Abilty: synchronize\n",
      "Base Experience: 300\n",
      "Sprite Image URL: https://raw.githubusercontent.com/PokeAPI/sprites/master/sprites/pokemon/back/151.png\n",
      "Attack Base Stat: 100\n",
      "HP Base Stat: 100\n",
      "Defence Base Stat: 100\n"
     ]
    }
   ],
   "source": [
    "# Here is an example of my original way\n",
    "\n",
    "url = 'https://pokeapi.co/api/v2/pokemon/mew'\n",
    "response = requests.get(url)\n",
    "response.status_code\n",
    "response.ok\n",
    "\n",
    "pokemon_stat_data_1 = response.json()['forms'][0]['name']\n",
    "pokemon_stat_data_2 = response.json()['abilities'][0]['ability']['name']\n",
    "pokemon_stat_data_3 = response.json()['base_experience']\n",
    "pokemon_stat_data_4 = response.json()['sprites']['back_default']\n",
    "pokemon_stat_data_5 = response.json()['stats'][1]['base_stat']\n",
    "pokemon_stat_data_6 = response.json()['stats'][0]['base_stat']\n",
    "pokemon_stat_data_7 = response.json()['stats'][2]['base_stat']\n",
    "\n",
    "pokemon_stat_data = pokemon_stat_data_1.title()\n",
    "\n",
    "print(f'Name: {pokemon_stat_data}')\n",
    "print(f'Abilty: {pokemon_stat_data_2}')\n",
    "print(f'Base Experience: {pokemon_stat_data_3}')\n",
    "print(f'Sprite Image URL: {pokemon_stat_data_4}')\n",
    "print(f'Attack Base Stat: {pokemon_stat_data_5}')\n",
    "print(f'HP Base Stat: {pokemon_stat_data_6}')\n",
    "print(f'Defence Base Stat: {pokemon_stat_data_7}')\n"
   ]
  },
  {
   "cell_type": "code",
   "execution_count": 35,
   "id": "49b8c05b",
   "metadata": {},
   "outputs": [
    {
     "name": "stdout",
     "output_type": "stream",
     "text": [
      "charizard has been selected\n"
     ]
    },
    {
     "data": {
      "text/plain": [
       "[{'Name': 'charizard',\n",
       "  'Ability': 'blaze',\n",
       "  'Base Experience': 267,\n",
       "  'Sprite Image URL': 'https://raw.githubusercontent.com/PokeAPI/sprites/master/sprites/pokemon/back/6.png',\n",
       "  'Attack Base Stat': 84,\n",
       "  'HP Base Stat': 78,\n",
       "  'Defence Base Stat': 78}]"
      ]
     },
     "execution_count": 35,
     "metadata": {},
     "output_type": "execute_result"
    }
   ],
   "source": [
    "def get_pokemon_stat_data(choice):\n",
    "    pokedex = []\n",
    "    url = f'https://pokeapi.co/api/v2/pokemon/{choice}'\n",
    "    response = requests.get(url)\n",
    "    if response.ok:\n",
    "        print(f\"{choice} has been selected\")\n",
    "        data = response.json()\n",
    "        pokemon =  {\n",
    "            'Name': data['forms'][0]['name'],\n",
    "            'Ability': data['abilities'][0]['ability']['name'],\n",
    "            'Base Experience': data['base_experience'],\n",
    "            'Sprite Image URL' : data['sprites']['back_default'], \n",
    "            'Attack Base Stat' : data['stats'][1]['base_stat'],\n",
    "            'HP Base Stat' : data['stats'][0]['base_stat'],\n",
    "            'Defence Base Stat' : data['stats'][2]['base_stat'],\n",
    "        }\n",
    "        pokedex.append(pokemon)\n",
    "        return(pokedex)\n",
    "\n",
    "    else:\n",
    "        return'Please choose another pokemon.'\n",
    "\n",
    "get_pokemon_stat_data('charizard')\n",
    "\n",
    "\n",
    "# url = 'https://pokeapi.co/api/v2/pokemon/6'\n",
    "# response = requests.get(url)\n",
    "# response.status_code\n",
    "# response.ok\n",
    "\n",
    "# pokemon_stat_data_1 = response.json()['forms'][0]['name']\n",
    "# pokemon_stat_data_2 = response.json()['abilities'][0]['ability']['name']\n",
    "# pokemon_stat_data_3 = response.json()['base_experience']\n",
    "# pokemon_stat_data_4 = response.json()['sprites']['back_default']\n",
    "# pokemon_stat_data_5 = response.json()['stats'][1]['base_stat']\n",
    "# pokemon_stat_data_6 = response.json()['stats'][0]['base_stat']\n",
    "# pokemon_stat_data_7 = response.json()['stats'][2]['base_stat']\n",
    "\n",
    "# pokemon_stat_data = pokemon_stat_data_1.title()\n",
    "\n",
    "# print(f'Name: {pokemon_stat_data}')\n",
    "# print(f'Abilty: {pokemon_stat_data_2}')\n",
    "# print(f'Base Experience: {pokemon_stat_data_3}')\n",
    "# print(f'Sprite Image URL: {pokemon_stat_data_4}')\n",
    "# print(f'Attack Base Stat: {pokemon_stat_data_5}')\n",
    "# print(f'HP Base Stat: {pokemon_stat_data_6}')\n",
    "# print(f'Defence Base Stat: {pokemon_stat_data_7}')\n",
    "\n"
   ]
  },
  {
   "cell_type": "code",
   "execution_count": 34,
   "id": "bc500227",
   "metadata": {},
   "outputs": [
    {
     "name": "stdout",
     "output_type": "stream",
     "text": [
      "snorlax has been selected\n"
     ]
    },
    {
     "data": {
      "text/plain": [
       "[{'Name': 'snorlax',\n",
       "  'Ability': 'immunity',\n",
       "  'Base Experience': 189,\n",
       "  'Sprite Image URL': 'https://raw.githubusercontent.com/PokeAPI/sprites/master/sprites/pokemon/back/143.png',\n",
       "  'Attack Base Stat': 110,\n",
       "  'HP Base Stat': 160,\n",
       "  'Defence Base Stat': 65}]"
      ]
     },
     "execution_count": 34,
     "metadata": {},
     "output_type": "execute_result"
    }
   ],
   "source": [
    "def get_pokemon_stat_data(choice):\n",
    "    pokedex = []\n",
    "    url = f'https://pokeapi.co/api/v2/pokemon/{choice}'\n",
    "    response = requests.get(url)\n",
    "    if response.ok:\n",
    "        print(f\"{choice} has been selected\")\n",
    "        data = response.json()\n",
    "        pokemon =  {\n",
    "            'Name': data['forms'][0]['name'],\n",
    "            'Ability': data['abilities'][0]['ability']['name'],\n",
    "            'Base Experience': data['base_experience'],\n",
    "            'Sprite Image URL' : data['sprites']['back_default'], \n",
    "            'Attack Base Stat' : data['stats'][1]['base_stat'],\n",
    "            'HP Base Stat' : data['stats'][0]['base_stat'],\n",
    "            'Defence Base Stat' : data['stats'][2]['base_stat'],\n",
    "        }\n",
    "        pokedex.append(pokemon)\n",
    "        return(pokedex)\n",
    "\n",
    "    else:\n",
    "        return'Please choose another pokemon.'\n",
    "\n",
    "get_pokemon_stat_data('snorlax')\n",
    "\n",
    "\n",
    "\n",
    "\n",
    "# url = 'https://pokeapi.co/api/v2/pokemon/snorlax'\n",
    "# response = requests.get(url)\n",
    "# response.status_code\n",
    "# response.ok\n",
    "\n",
    "# pokemon_stat_data_1 = response.json()['forms'][0]['name']\n",
    "# pokemon_stat_data_2 = response.json()['abilities'][0]['ability']['name']\n",
    "# pokemon_stat_data_3 = response.json()['base_experience']\n",
    "# pokemon_stat_data_4 = response.json()['sprites']['back_default']\n",
    "# pokemon_stat_data_5 = response.json()['stats'][1]['base_stat']\n",
    "# pokemon_stat_data_6 = response.json()['stats'][0]['base_stat']\n",
    "# pokemon_stat_data_7 = response.json()['stats'][2]['base_stat']\n",
    "\n",
    "# pokemon_stat_data = pokemon_stat_data_1.title()\n",
    "\n",
    "# print(f'Name: {pokemon_stat_data}')\n",
    "# print(f'Abilty: {pokemon_stat_data_2}')\n",
    "# print(f'Base Experience: {pokemon_stat_data_3}')\n",
    "# print(f'Sprite Image URL: {pokemon_stat_data_4}')\n",
    "# print(f'Attack Base Stat: {pokemon_stat_data_5}')\n",
    "# print(f'HP Base Stat: {pokemon_stat_data_6}')\n",
    "# print(f'Defence Base Stat: {pokemon_stat_data_7}')"
   ]
  },
  {
   "cell_type": "code",
   "execution_count": 33,
   "id": "1a91a5bd",
   "metadata": {},
   "outputs": [
    {
     "name": "stdout",
     "output_type": "stream",
     "text": [
      "pikachu has been selected\n"
     ]
    },
    {
     "data": {
      "text/plain": [
       "[{'Name': 'pikachu',\n",
       "  'Ability': 'static',\n",
       "  'Base Experience': 112,\n",
       "  'Sprite Image URL': 'https://raw.githubusercontent.com/PokeAPI/sprites/master/sprites/pokemon/back/25.png',\n",
       "  'Attack Base Stat': 55,\n",
       "  'HP Base Stat': 35,\n",
       "  'Defence Base Stat': 40}]"
      ]
     },
     "execution_count": 33,
     "metadata": {},
     "output_type": "execute_result"
    }
   ],
   "source": [
    "\n",
    "def get_pokemon_stat_data(choice):\n",
    "    pokedex = []\n",
    "    url = f'https://pokeapi.co/api/v2/pokemon/{choice}'\n",
    "    response = requests.get(url)\n",
    "    if response.ok:\n",
    "        print(f\"{choice} has been selected\")\n",
    "        data = response.json()\n",
    "        pokemon =  {\n",
    "            'Name': data['forms'][0]['name'],\n",
    "            'Ability': data['abilities'][0]['ability']['name'],\n",
    "            'Base Experience': data['base_experience'],\n",
    "            'Sprite Image URL' : data['sprites']['back_default'], \n",
    "            'Attack Base Stat' : data['stats'][1]['base_stat'],\n",
    "            'HP Base Stat' : data['stats'][0]['base_stat'],\n",
    "            'Defence Base Stat' : data['stats'][2]['base_stat'],\n",
    "        }\n",
    "        pokedex.append(pokemon)\n",
    "        return(pokedex)\n",
    "\n",
    "    else:\n",
    "        return'Please choose another pokemon.'\n",
    "\n",
    "get_pokemon_stat_data('pikachu')\n",
    "\n",
    "# url = 'https://pokeapi.co/api/v2/pokemon/pikachu'\n",
    "# response = requests.get(url)\n",
    "# response.status_code\n",
    "# response.ok\n",
    "\n",
    "\n",
    "# pokemon_stat_data_1 = response.json()['forms'][0]['name']\n",
    "# pokemon_stat_data_2 = response.json()['abilities'][0]['ability']['name']\n",
    "# pokemon_stat_data_3 = response.json()['base_experience']\n",
    "# pokemon_stat_data_4 = response.json()['sprites']['back_default']\n",
    "# pokemon_stat_data_5 = response.json()['stats'][1]['base_stat']\n",
    "# pokemon_stat_data_6 = response.json()['stats'][0]['base_stat']\n",
    "# pokemon_stat_data_7 = response.json()['stats'][2]['base_stat']\n",
    "\n",
    "# pokemon_stat_data = pokemon_stat_data_1.title()\n",
    "\n",
    "# print(f'Name: {pokemon_stat_data}')\n",
    "# print(f'Abilty: {pokemon_stat_data_2}')\n",
    "# print(f'Base Experience: {pokemon_stat_data_3}')\n",
    "# print(f'Sprite Image URL: {pokemon_stat_data_4}')\n",
    "# print(f'Attack Base Stat: {pokemon_stat_data_5}')\n",
    "# print(f'HP Base Stat: {pokemon_stat_data_6}')\n",
    "# print(f'Defence Base Stat: {pokemon_stat_data_7}')"
   ]
  },
  {
   "cell_type": "code",
   "execution_count": null,
   "id": "12b56403",
   "metadata": {},
   "outputs": [],
   "source": []
  },
  {
   "cell_type": "code",
   "execution_count": null,
   "id": "accdd9ae",
   "metadata": {},
   "outputs": [],
   "source": []
  }
 ],
 "metadata": {
  "kernelspec": {
   "display_name": "Python 3.9.7 64-bit",
   "language": "python",
   "name": "python3"
  },
  "language_info": {
   "codemirror_mode": {
    "name": "ipython",
    "version": 3
   },
   "file_extension": ".py",
   "mimetype": "text/x-python",
   "name": "python",
   "nbconvert_exporter": "python",
   "pygments_lexer": "ipython3",
   "version": "3.9.7"
  },
  "vscode": {
   "interpreter": {
    "hash": "64907145c6e514ce78e4676ca34bdc24480dd4ed0db374ceb884ad79dda0cf9e"
   }
  }
 },
 "nbformat": 4,
 "nbformat_minor": 5
}
